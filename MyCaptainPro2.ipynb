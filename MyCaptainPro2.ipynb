{
 "cells": [
  {
   "cell_type": "code",
   "execution_count": 3,
   "metadata": {},
   "outputs": [
    {
     "name": "stdout",
     "output_type": "stream",
     "text": [
      "Enter How many terms are needed of Fibonacci Series\n",
      "6\n",
      "Fibonacci Sequence:\n",
      "0\n",
      "1\n",
      "1\n",
      "2\n",
      "3\n",
      "5\n"
     ]
    }
   ],
   "source": [
    "#Displaying Fibonacci Series\n",
    "x=int(input(\"Enter How many terms are needed of Fibonacci Series\\n\"))\n",
    "#first two terms\n",
    "a,b=0,1\n",
    "i=0\n",
    "\n",
    "if x<=0:\n",
    "    print(\"Please enter a positive integer\")\n",
    "elif x==1:\n",
    "    print(\"Fibonacci Sequence upto\",x,\":\")\n",
    "    print(a)\n",
    "else:\n",
    "    print(\"Fibonacci Sequence:\")\n",
    "    while i<x:\n",
    "        print(a)\n",
    "        n=a+b\n",
    "        \n",
    "        a=b\n",
    "        b=n\n",
    "        i+=1"
   ]
  },
  {
   "cell_type": "code",
   "execution_count": null,
   "metadata": {},
   "outputs": [],
   "source": []
  }
 ],
 "metadata": {
  "kernelspec": {
   "display_name": "Python 3",
   "language": "python",
   "name": "python3"
  },
  "language_info": {
   "codemirror_mode": {
    "name": "ipython",
    "version": 3
   },
   "file_extension": ".py",
   "mimetype": "text/x-python",
   "name": "python",
   "nbconvert_exporter": "python",
   "pygments_lexer": "ipython3",
   "version": "3.7.6"
  }
 },
 "nbformat": 4,
 "nbformat_minor": 4
}
